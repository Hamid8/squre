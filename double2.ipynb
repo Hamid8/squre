{
 "cells": [
  {
   "cell_type": "code",
   "execution_count": 1,
   "id": "d4130792-7f54-4e39-a905-9f80507dc37e",
   "metadata": {},
   "outputs": [],
   "source": [
    "def sqroot(x):\n",
    "  return x**.5"
   ]
  },
  {
   "cell_type": "code",
   "execution_count": null,
   "id": "c29965e3-1117-4c23-bf93-44dab1e8a0b4",
   "metadata": {},
   "outputs": [],
   "source": []
  }
 ],
 "metadata": {
  "kernelspec": {
   "display_name": "Python 3 (ipykernel)",
   "language": "python",
   "name": "python3"
  },
  "language_info": {
   "codemirror_mode": {
    "name": "ipython",
    "version": 3
   },
   "file_extension": ".py",
   "mimetype": "text/x-python",
   "name": "python",
   "nbconvert_exporter": "python",
   "pygments_lexer": "ipython3",
   "version": "3.11.7"
  }
 },
 "nbformat": 4,
 "nbformat_minor": 5
}
